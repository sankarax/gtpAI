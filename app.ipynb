{
 "cells": [
  {
   "cell_type": "code",
   "execution_count": 4,
   "id": "dc0f97db",
   "metadata": {},
   "outputs": [
    {
     "name": "stdout",
     "output_type": "stream",
     "text": [
      "The product costs $81.0\n"
     ]
    }
   ],
   "source": [
    "import modal\n",
    "Guesser = modal.Cls.from_name(\"gtp-service\", \"Guesser\")\n",
    "gtp = Guesser()\n",
    "reply = gtp.price.remote(\"Logitech G Pro Superlight wireless mouse\")\n",
    "print(f'The product costs ${reply}')"
   ]
  }
 ],
 "metadata": {
  "kernelspec": {
   "display_name": "llms",
   "language": "python",
   "name": "python3"
  },
  "language_info": {
   "codemirror_mode": {
    "name": "ipython",
    "version": 3
   },
   "file_extension": ".py",
   "mimetype": "text/x-python",
   "name": "python",
   "nbconvert_exporter": "python",
   "pygments_lexer": "ipython3",
   "version": "3.12.4"
  }
 },
 "nbformat": 4,
 "nbformat_minor": 5
}
